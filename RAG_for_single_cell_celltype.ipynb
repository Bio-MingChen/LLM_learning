{
 "cells": [
  {
   "cell_type": "code",
   "execution_count": null,
   "metadata": {},
   "outputs": [],
   "source": [
    "from langchain.chains import RetrievalQA\n",
    "from langchain_community.document_loaders import UnstructuredFileLoader\n",
    "from langchain_community.llms import Ollama\n",
    "from langchain_community.vectorstores import FAISS\n",
    "from langchain_huggingface import HuggingFaceEmbeddings\n",
    "from langchain_text_splitters import CharacterTextSplitter\n",
    "from langchain_ollama import OllamaLLM\n",
    "import faiss\n",
    "# 保存文档和嵌入\n",
    "import pickle"
   ]
  },
  {
   "cell_type": "code",
   "execution_count": null,
   "metadata": {},
   "outputs": [],
   "source": [
    "question5 = \"\"\"\n",
    "背景信息： 用户提供物种为人类，组织类型为PBMC，目标细胞类型为“小类细胞类型（对应大类细胞类型为T细胞）”。\n",
    "差异基因： IL7R, TMSB10, CD4, ITGB1, LTB, TRAC, AQP3, LDHB, IL32, MAL\n",
    "请给出预测的细胞类型\n",
    "\"\"\"\n",
    "question6 = \"\"\"\n",
    "背景信息： 用户提供物种为人类，组织类型为PBMC，目标细胞类型为“小类细胞类型（对应大类细胞类型为T细胞）”。\n",
    "差异基因： IL7R, TMSB10, CD4, ITGB1\n",
    "请给出预测的细胞类型\n",
    "\"\"\"\n",
    "\n",
    "question7 = \"\"\"\n",
    "背景信息： 用户提供物种为人类，组织类型为PBMC，目标细胞类型为“小类细胞类型（对应大类细胞类型为T细胞）”。\n",
    "差异基因： IL7R, TMSB10, CD4, ITGB1, HBD, HBM, AHSP, ALAS2\n",
    "请给出预测的细胞类型\n",
    "\"\"\""
   ]
  },
  {
   "cell_type": "code",
   "execution_count": null,
   "metadata": {},
   "outputs": [],
   "source": [
    "# llm = OllamaLLM(model=\"llama3.1\")\n",
    "llm = OllamaLLM(model=\"CellType\",temperature=1)\n",
    "\n",
    "response = llm.invoke(question5)\n",
    "print(response)"
   ]
  },
  {
   "cell_type": "code",
   "execution_count": null,
   "metadata": {},
   "outputs": [],
   "source": [
    "loader = UnstructuredFileLoader(\"azimuth_cellmarker_v2.pdf\")\n",
    "\n",
    "docs = loader.load()"
   ]
  },
  {
   "cell_type": "code",
   "execution_count": null,
   "metadata": {},
   "outputs": [],
   "source": [
    "\n",
    "text_splitter = CharacterTextSplitter(\n",
    "    separator=\"\\n\",\n",
    "    chunk_size=500,\n",
    "    chunk_overlap=200\n",
    ")\n",
    "texts = text_splitter.split_documents(docs)"
   ]
  },
  {
   "cell_type": "code",
   "execution_count": null,
   "metadata": {},
   "outputs": [],
   "source": [
    "embeddings = HuggingFaceEmbeddings(cache_dir=\"./embedding\")"
   ]
  },
  {
   "cell_type": "code",
   "execution_count": null,
   "metadata": {},
   "outputs": [],
   "source": [
    "# pip install faiss-cpu\n",
    "db = FAISS.from_documents(texts, embeddings)"
   ]
  },
  {
   "cell_type": "code",
   "execution_count": null,
   "metadata": {},
   "outputs": [],
   "source": [
    "retriever = db.as_retriever(search_kwargs={\"k\": 2})"
   ]
  },
  {
   "cell_type": "code",
   "execution_count": null,
   "metadata": {},
   "outputs": [],
   "source": [
    "# 将数据保存起来，方便下次直接使用，而不是重新运行上述步骤\n",
    "with open('single_cell_markers_documents.pkl', 'wb') as f:\n",
    "    pickle.dump(texts, f)\n",
    "\n",
    "with open('single_cell_markers_embeddings.pkl', 'wb') as f:\n",
    "    pickle.dump(embeddings, f)"
   ]
  },
  {
   "cell_type": "code",
   "execution_count": null,
   "metadata": {},
   "outputs": [],
   "source": [
    "# 读取文档和嵌入\n",
    "with open('documents.pkl', 'rb') as f:\n",
    "    texts = pickle.load(f)\n",
    "\n",
    "with open('embeddings.pkl', 'rb') as f:\n",
    "    embeddings = pickle.load(f)\n",
    "\n",
    "# 创建新的 FAISS 数据库对象\n",
    "db = FAISS.from_documents(texts, embeddings)\n",
    "\n",
    "# 获取检索器\n",
    "retriever = db.as_retriever()"
   ]
  },
  {
   "cell_type": "code",
   "execution_count": null,
   "metadata": {},
   "outputs": [],
   "source": [
    "chain = RetrievalQA.from_chain_type(\n",
    "    llm,\n",
    "    retriever=retriever\n",
    ")"
   ]
  },
  {
   "cell_type": "code",
   "execution_count": null,
   "metadata": {},
   "outputs": [],
   "source": [
    "question = \"请总结一下文档\"\n",
    "result = chain.invoke({\"query\": question})\n",
    "\n",
    "print(result['result'])"
   ]
  },
  {
   "cell_type": "code",
   "execution_count": null,
   "metadata": {},
   "outputs": [],
   "source": [
    "result = chain.invoke({\"query\": question5})\n",
    "print(result['result'])"
   ]
  },
  {
   "cell_type": "code",
   "execution_count": null,
   "metadata": {},
   "outputs": [],
   "source": [
    "result = chain.invoke({\"query\": question6})\n",
    "print(result['result'])"
   ]
  },
  {
   "cell_type": "code",
   "execution_count": null,
   "metadata": {},
   "outputs": [],
   "source": [
    "result = chain.invoke({\"query\": question7})\n",
    "print(result['result'])"
   ]
  }
 ],
 "metadata": {
  "language_info": {
   "name": "python"
  }
 },
 "nbformat": 4,
 "nbformat_minor": 2
}
